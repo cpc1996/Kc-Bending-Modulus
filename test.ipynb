{
 "cells": [
  {
   "cell_type": "code",
   "execution_count": 1,
   "metadata": {},
   "outputs": [],
   "source": [
    "import sys\n",
    "sys.path.append('/home/cao/anaconda3/envs/hus/lib/python3.8/site-packages')\n",
    "import numpy as np"
   ]
  },
  {
   "cell_type": "code",
   "execution_count": 3,
   "metadata": {},
   "outputs": [],
   "source": [
    "import MDAnalysis as mda\n",
    "\n",
    "# from MDAnalysis.tests.datafiles import TPR, XTC\n",
    "\n",
    "from MDAnalysis import transformations as trans\n",
    "\n",
    "u = mda.Universe(\"data/step7_new.tpr\", \"data/d1_step7_mem_500.xtc\")\n",
    "\n",
    "protein = u.select_atoms('all')\n",
    "\n",
    "align_transform = trans.fit_rot_trans(protein, protein, weights=protein.masses)\n",
    "\n",
    "u.trajectory.add_transformations(align_transform)"
   ]
  },
  {
   "cell_type": "code",
   "execution_count": 10,
   "metadata": {},
   "outputs": [
    {
     "name": "stdout",
     "output_type": "stream",
     "text": [
      "<AtomGroup [<Atom 3319: N of type NTL of resname POPC, resid 84 and segid seg_14_POPC>, <Atom 3320: C12 of type CTL2 of resname POPC, resid 84 and segid seg_14_POPC>, <Atom 3321: H12A of type HL of resname POPC, resid 84 and segid seg_14_POPC>, ..., <Atom 3450: H16X of type HAL3 of resname POPC, resid 84 and segid seg_14_POPC>, <Atom 3451: H16Y of type HAL3 of resname POPC, resid 84 and segid seg_14_POPC>, <Atom 3452: H16Z of type HAL3 of resname POPC, resid 84 and segid seg_14_POPC>]>\n",
      "[[109.08001   95.83     103.380005]]\n",
      "[[100.200005  88.86001  125.14001 ]]\n",
      "[[104.64001  92.345   114.26001]]\n"
     ]
    }
   ],
   "source": [
    "ares = u.select_atoms(\"resid 84\")\n",
    "print(ares)\n",
    "aatom = ares.select_atoms(\"name H16Z\")\n",
    "print(aatom.positions)\n",
    "aatom2 = ares.select_atoms(\"name C12\")\n",
    "print(aatom2.positions)\n",
    "M = .5 * (aatom.positions + aatom2.positions)\n",
    "print(M)"
   ]
  },
  {
   "cell_type": "code",
   "execution_count": 4,
   "metadata": {},
   "outputs": [],
   "source": [
    "dic = {'a':2, 'b':6, 'c':7}"
   ]
  },
  {
   "cell_type": "code",
   "execution_count": 5,
   "metadata": {},
   "outputs": [
    {
     "name": "stdout",
     "output_type": "stream",
     "text": [
      "['a', 'b', 'c']\n"
     ]
    }
   ],
   "source": [
    "x = list(dic.keys())\n",
    "print(x)"
   ]
  },
  {
   "cell_type": "code",
   "execution_count": 6,
   "metadata": {},
   "outputs": [
    {
     "data": {
      "text/plain": [
       "['b', 'c']"
      ]
     },
     "execution_count": 6,
     "metadata": {},
     "output_type": "execute_result"
    }
   ],
   "source": [
    "x[1:]"
   ]
  },
  {
   "cell_type": "code",
   "execution_count": 8,
   "metadata": {},
   "outputs": [
    {
     "name": "stdout",
     "output_type": "stream",
     "text": [
      "None\n"
     ]
    }
   ],
   "source": [
    "print(dic.get('d'))"
   ]
  },
  {
   "cell_type": "code",
   "execution_count": 12,
   "metadata": {},
   "outputs": [],
   "source": [
    "if (dic.get('d')): print('oh')"
   ]
  },
  {
   "cell_type": "code",
   "execution_count": 35,
   "metadata": {},
   "outputs": [
    {
     "data": {
      "text/plain": [
       "['a', 'b']"
      ]
     },
     "execution_count": 35,
     "metadata": {},
     "output_type": "execute_result"
    }
   ],
   "source": [
    "x[:-1]"
   ]
  },
  {
   "cell_type": "code",
   "execution_count": 1,
   "metadata": {},
   "outputs": [],
   "source": [
    "def f(x):\n",
    "    a = x\n",
    "    b = 3*x\n",
    "    c = 5*x\n",
    "    return a, b, c"
   ]
  },
  {
   "cell_type": "code",
   "execution_count": 4,
   "metadata": {},
   "outputs": [
    {
     "name": "stdout",
     "output_type": "stream",
     "text": [
      "12\n"
     ]
    }
   ],
   "source": [
    "y = f(4)[1]\n",
    "print(y)"
   ]
  },
  {
   "cell_type": "code",
   "execution_count": 1,
   "metadata": {},
   "outputs": [],
   "source": [
    "m = [[False] * 3] * 4"
   ]
  },
  {
   "cell_type": "code",
   "execution_count": 2,
   "metadata": {},
   "outputs": [
    {
     "name": "stdout",
     "output_type": "stream",
     "text": [
      "[[False, False, False], [False, False, False], [False, False, False], [False, False, False]]\n"
     ]
    }
   ],
   "source": [
    "print(m)"
   ]
  },
  {
   "cell_type": "code",
   "execution_count": 4,
   "metadata": {},
   "outputs": [],
   "source": [
    "import numpy as np\n",
    "c\n",
    "from scipy.optimize import curve_fit\n",
    "\n",
    "def func(x, a, b, c):\n",
    "    return a * x ** 2 + b * x + c\n",
    "\n",
    "x = np.linspace(0, 4, 50)\n",
    "y = func(x, 1, 1.3, 0.5)\n",
    "yn = y + 0.2 * np.random.normal(size = len(x))\n",
    "\n",
    "popt, pcov = curve_fit(func, x, yn)"
   ]
  },
  {
   "cell_type": "code",
   "execution_count": 2,
   "metadata": {},
   "outputs": [
    {
     "data": {
      "image/png": "[encoded data removed]",
      "text/plain": [
       "<Figure size 432x288 with 1 Axes>"
      ]
     },
     "metadata": {
      "needs_background": "light"
     },
     "output_type": "display_data"
    }
   ],
   "source": [
    "plt.figure()\n",
    "plt.plot(x, yn, 'ko', label=\"Original Noised Data\")\n",
    "plt.plot(x, func(x, *popt), 'r-', label=\"Fitted Curve\")\n",
    "plt.legend()\n",
    "plt.show()"
   ]
  },
  {
   "cell_type": "code",
   "execution_count": 3,
   "metadata": {},
   "outputs": [
    {
     "name": "stdout",
     "output_type": "stream",
     "text": [
      "[1.01860874 1.22584074 0.5055058 ]\n"
     ]
    }
   ],
   "source": [
    "print(popt)"
   ]
  },
  {
   "cell_type": "code",
   "execution_count": 4,
   "metadata": {},
   "outputs": [
    {
     "name": "stdout",
     "output_type": "stream",
     "text": [
      "[[ 0.00036343 -0.00145374  0.00094938]\n",
      " [-0.00145374  0.00621796 -0.00460353]\n",
      " [ 0.00094938 -0.00460353  0.00465129]]\n"
     ]
    }
   ],
   "source": [
    "print(pcov)"
   ]
  },
  {
   "cell_type": "code",
   "execution_count": 5,
   "metadata": {},
   "outputs": [],
   "source": [
    "perr = np.sqrt(np.diag(pcov))"
   ]
  },
  {
   "cell_type": "code",
   "execution_count": 6,
   "metadata": {},
   "outputs": [
    {
     "name": "stdout",
     "output_type": "stream",
     "text": [
      "[0.01906396 0.07885402 0.06820037]\n"
     ]
    }
   ],
   "source": [
    "print(perr)"
   ]
  },
  {
   "cell_type": "code",
   "execution_count": 3,
   "metadata": {},
   "outputs": [],
   "source": [
    "import numpy as np\n",
    "a = np.array([1, 2, 3])"
   ]
  },
  {
   "cell_type": "code",
   "execution_count": 5,
   "metadata": {},
   "outputs": [
    {
     "data": {
      "text/plain": [
       "array([1, 2, 3, 5])"
      ]
     },
     "execution_count": 5,
     "metadata": {},
     "output_type": "execute_result"
    }
   ],
   "source": [
    "np.append(a, 5)"
   ]
  },
  {
   "cell_type": "code",
   "execution_count": 6,
   "metadata": {},
   "outputs": [
    {
     "name": "stdout",
     "output_type": "stream",
     "text": [
      "[1 2 3]\n"
     ]
    }
   ],
   "source": [
    "print(a)"
   ]
  },
  {
   "cell_type": "code",
   "execution_count": 7,
   "metadata": {},
   "outputs": [],
   "source": [
    "b = np.arange(7)"
   ]
  },
  {
   "cell_type": "code",
   "execution_count": 8,
   "metadata": {},
   "outputs": [
    {
     "name": "stdout",
     "output_type": "stream",
     "text": [
      "[0 1 2 3 4 5 6]\n"
     ]
    }
   ],
   "source": [
    "print(b)"
   ]
  },
  {
   "cell_type": "code",
   "execution_count": 9,
   "metadata": {},
   "outputs": [],
   "source": [
    "c = np.array([0] * 7)"
   ]
  },
  {
   "cell_type": "code",
   "execution_count": 10,
   "metadata": {},
   "outputs": [
    {
     "name": "stdout",
     "output_type": "stream",
     "text": [
      "[0 0 0 0 0 0 0]\n"
     ]
    }
   ],
   "source": [
    "print(c)"
   ]
  },
  {
   "cell_type": "code",
   "execution_count": 11,
   "metadata": {},
   "outputs": [],
   "source": [
    "x = 1.0"
   ]
  },
  {
   "cell_type": "code",
   "execution_count": 12,
   "metadata": {},
   "outputs": [
    {
     "data": {
      "text/plain": [
       "1"
      ]
     },
     "execution_count": 12,
     "metadata": {},
     "output_type": "execute_result"
    }
   ],
   "source": [
    "int(x)"
   ]
  },
  {
   "cell_type": "code",
   "execution_count": 13,
   "metadata": {},
   "outputs": [
    {
     "name": "stdout",
     "output_type": "stream",
     "text": [
      "1.0\n",
      "1\n"
     ]
    }
   ],
   "source": [
    "print(x)\n",
    "print(int(x))"
   ]
  },
  {
   "cell_type": "code",
   "execution_count": 14,
   "metadata": {},
   "outputs": [
    {
     "name": "stdout",
     "output_type": "stream",
     "text": [
      "[[1.0, 2.0], [3.0, 4.0]]\n"
     ]
    }
   ],
   "source": [
    "l = [[1.0, 2.0], [3.0, 4.0]]\n",
    "print(l)"
   ]
  },
  {
   "cell_type": "code",
   "execution_count": 16,
   "metadata": {},
   "outputs": [],
   "source": [
    "l = map(int, l)"
   ]
  },
  {
   "cell_type": "code",
   "execution_count": 17,
   "metadata": {},
   "outputs": [
    {
     "name": "stdout",
     "output_type": "stream",
     "text": [
      "<map object at 0x7f57289d7520>\n"
     ]
    }
   ],
   "source": [
    "print(l)"
   ]
  },
  {
   "cell_type": "code",
   "execution_count": 23,
   "metadata": {},
   "outputs": [
    {
     "name": "stdout",
     "output_type": "stream",
     "text": [
      "[0. 0. 0.]\n"
     ]
    }
   ],
   "source": [
    "t = np.zeros(3)\n",
    "print(t)"
   ]
  },
  {
   "cell_type": "code",
   "execution_count": null,
   "metadata": {},
   "outputs": [],
   "source": [
    "t.astype(int)\n",
    "t = "
   ]
  },
  {
   "cell_type": "code",
   "execution_count": 21,
   "metadata": {},
   "outputs": [
    {
     "name": "stdout",
     "output_type": "stream",
     "text": [
      "[[0. 0. 0. 0.]\n",
      " [0. 0. 0. 0.]\n",
      " [0. 0. 0. 0.]]\n"
     ]
    }
   ],
   "source": [
    "t = np.zeros([3, 4])\n",
    "print(t)"
   ]
  },
  {
   "cell_type": "code",
   "execution_count": 22,
   "metadata": {},
   "outputs": [
    {
     "name": "stdout",
     "output_type": "stream",
     "text": [
      "[[0 0 0 0]\n",
      " [0 0 0 0]\n",
      " [0 0 0 0]]\n"
     ]
    }
   ],
   "source": [
    "t = t.astype(int)\n",
    "print(t)"
   ]
  },
  {
   "cell_type": "code",
   "execution_count": 36,
   "metadata": {},
   "outputs": [],
   "source": [
    "places = ['Berlin', 'Cape Town', 'Sydney', 'Moscow']\n",
    "t = 4.0\n",
    "with open('test.dat', 'w') as filehandle:\n",
    "    filehandle.write('this \\u00B1 asdf\\n')\n",
    "    filehandle.write('this t = %f and %d\\n' % (t, t))\n",
    "    for listitem in places:\n",
    "        filehandle.write(listitem + ' ')"
   ]
  },
  {
   "cell_type": "code",
   "execution_count": 26,
   "metadata": {},
   "outputs": [],
   "source": [
    "x = float('nan')"
   ]
  },
  {
   "cell_type": "code",
   "execution_count": 27,
   "metadata": {},
   "outputs": [],
   "source": [
    "import math"
   ]
  },
  {
   "cell_type": "code",
   "execution_count": 29,
   "metadata": {},
   "outputs": [
    {
     "data": {
      "text/plain": [
       "True"
      ]
     },
     "execution_count": 29,
     "metadata": {},
     "output_type": "execute_result"
    }
   ],
   "source": [
    "np.isnan(x)"
   ]
  },
  {
   "cell_type": "code",
   "execution_count": 1,
   "metadata": {},
   "outputs": [
    {
     "name": "stdout",
     "output_type": "stream",
     "text": [
      "3\n",
      "\n",
      "123\n",
      "\n",
      "323\n",
      "\n",
      "432\n",
      "\n",
      "\n",
      "\n",
      "2\n",
      "\n",
      "567\n",
      "\n",
      "789\n",
      "\n"
     ]
    }
   ],
   "source": [
    "f = open('test.txt')\n",
    "for x in f:\n",
    "    print(x)\n",
    "    \n",
    "f.close()"
   ]
  },
  {
   "cell_type": "code",
   "execution_count": 3,
   "metadata": {},
   "outputs": [
    {
     "name": "stdout",
     "output_type": "stream",
     "text": [
      "[2, 5]\n"
     ]
    }
   ],
   "source": [
    "a = [2, 5, 7, 9, 1]\n",
    "b = a[0:2]\n",
    "print(b)"
   ]
  },
  {
   "cell_type": "code",
   "execution_count": 13,
   "metadata": {},
   "outputs": [
    {
     "name": "stdout",
     "output_type": "stream",
     "text": [
      "[ 0.   0.1  0.2  0.3  0.4  0.5  0.6  0.7  0.8  0.9  1.   1.1  1.2  1.3\n",
      "  1.4  1.5  1.6  1.7  1.8  1.9  2.   2.1  2.2  2.3  2.4  2.5  2.6  2.7\n",
      "  2.8  2.9  3.   3.1  3.2  3.3  3.4  3.5  3.6  3.7  3.8  3.9  4.   4.1\n",
      "  4.2  4.3  4.4  4.5  4.6  4.7  4.8  4.9  5.   5.1  5.2  5.3  5.4  5.5\n",
      "  5.6  5.7  5.8  5.9  6.   6.1  6.2  6.3  6.4  6.5  6.6  6.7  6.8  6.9\n",
      "  7.   7.1  7.2  7.3  7.4  7.5  7.6  7.7  7.8  7.9  8.   8.1  8.2  8.3\n",
      "  8.4  8.5  8.6  8.7  8.8  8.9  9.   9.1  9.2  9.3  9.4  9.5  9.6  9.7\n",
      "  9.8  9.9 10. ]\n"
     ]
    }
   ],
   "source": [
    "a = np.linspace(0, 10, 101)\n",
    "print(a)"
   ]
  },
  {
   "cell_type": "code",
   "execution_count": 1,
   "metadata": {},
   "outputs": [
    {
     "name": "stdout",
     "output_type": "stream",
     "text": [
      "10.0\n"
     ]
    }
   ],
   "source": [
    "a = float(2.5)\n",
    "b = int(4)\n",
    "c = a * b\n",
    "print(c)"
   ]
  },
  {
   "cell_type": "code",
   "execution_count": 2,
   "metadata": {},
   "outputs": [],
   "source": [
    "a = [2, 4, 5]"
   ]
  },
  {
   "cell_type": "code",
   "execution_count": 3,
   "metadata": {},
   "outputs": [
    {
     "name": "stdout",
     "output_type": "stream",
     "text": [
      "3\n"
     ]
    }
   ],
   "source": [
    "print(len(a))"
   ]
  },
  {
   "cell_type": "code",
   "execution_count": 4,
   "metadata": {},
   "outputs": [
    {
     "ename": "SyntaxError",
     "evalue": "invalid syntax (<ipython-input-4-adbc8a67948f>, line 1)",
     "output_type": "error",
     "traceback": [
      "\u001b[0;36m  File \u001b[0;32m\"<ipython-input-4-adbc8a67948f>\"\u001b[0;36m, line \u001b[0;32m1\u001b[0m\n\u001b[0;31m    x = 100:10:200\u001b[0m\n\u001b[0m           ^\u001b[0m\n\u001b[0;31mSyntaxError\u001b[0m\u001b[0;31m:\u001b[0m invalid syntax\n"
     ]
    }
   ],
   "source": [
    "x = 100:10:200"
   ]
  },
  {
   "cell_type": "code",
   "execution_count": 12,
   "metadata": {},
   "outputs": [
    {
     "name": "stdout",
     "output_type": "stream",
     "text": [
      "Data type before reconstruction :  <class 'str'>\n",
      "Data type after reconstruction :  <class 'dict'>\n",
      "{'DPPC': ['C214 C215 C216 C314 C315 C316', 'C2  P'], 'POPC': ['C216 C217 C218 C314 C315 C316', 'C2  P'], 'PSM': ['C14F C15F C16F C16S C17S C18S', 'C2S P'], 'CHL1': ['C17', 'C3']}\n"
     ]
    }
   ],
   "source": [
    "# importing the module\n",
    "import ast\n",
    "  \n",
    "# reading the data from the file\n",
    "with open('dictionary.dat') as f:\n",
    "    data = f.read()\n",
    "\n",
    "print(\"Data type before reconstruction : \", type(data))\n",
    "      \n",
    "# reconstructing the data as a dictionary\n",
    "js = ast.literal_eval(data)\n",
    "  \n",
    "print(\"Data type after reconstruction : \", type(js))\n",
    "print(js)"
   ]
  },
  {
   "cell_type": "code",
   "execution_count": 9,
   "metadata": {},
   "outputs": [],
   "source": [
    "import ast"
   ]
  },
  {
   "cell_type": "code",
   "execution_count": 11,
   "metadata": {},
   "outputs": [
    {
     "ename": "ValueError",
     "evalue": "could not convert string to float: '[0, 0, 1]'",
     "output_type": "error",
     "traceback": [
      "\u001b[0;31m---------------------------------------------------------------------------\u001b[0m",
      "\u001b[0;31mValueError\u001b[0m                                Traceback (most recent call last)",
      "\u001b[0;32m<ipython-input-11-1b2df5fadf1a>\u001b[0m in \u001b[0;36m<module>\u001b[0;34m\u001b[0m\n\u001b[1;32m      5\u001b[0m \u001b[0;34m\u001b[0m\u001b[0m\n\u001b[1;32m      6\u001b[0m \u001b[0;32mtry\u001b[0m\u001b[0;34m:\u001b[0m\u001b[0;34m\u001b[0m\u001b[0;34m\u001b[0m\u001b[0m\n\u001b[0;32m----> 7\u001b[0;31m     \u001b[0mmembrane_axis\u001b[0m \u001b[0;34m=\u001b[0m \u001b[0mparser\u001b[0m\u001b[0;34m.\u001b[0m\u001b[0mgetfloat\u001b[0m\u001b[0;34m(\u001b[0m\u001b[0;34m\"User config\"\u001b[0m\u001b[0;34m,\u001b[0m \u001b[0;34m\"membrane_axis\"\u001b[0m\u001b[0;34m)\u001b[0m\u001b[0;34m\u001b[0m\u001b[0;34m\u001b[0m\u001b[0m\n\u001b[0m\u001b[1;32m      8\u001b[0m \u001b[0;32mexcept\u001b[0m \u001b[0mconfigparser\u001b[0m\u001b[0;34m.\u001b[0m\u001b[0mError\u001b[0m\u001b[0;34m:\u001b[0m\u001b[0;34m\u001b[0m\u001b[0;34m\u001b[0m\u001b[0m\n\u001b[1;32m      9\u001b[0m     \u001b[0mmembrane_axis\u001b[0m \u001b[0;34m=\u001b[0m \u001b[0;34m[\u001b[0m\u001b[0;36m0\u001b[0m\u001b[0;34m,\u001b[0m \u001b[0;36m0\u001b[0m\u001b[0;34m,\u001b[0m \u001b[0;36m2\u001b[0m\u001b[0;34m]\u001b[0m\u001b[0;34m\u001b[0m\u001b[0;34m\u001b[0m\u001b[0m\n",
      "\u001b[0;32m~/anaconda3/lib/python3.8/configparser.py\u001b[0m in \u001b[0;36mgetfloat\u001b[0;34m(self, section, option, raw, vars, fallback, **kwargs)\u001b[0m\n\u001b[1;32m    821\u001b[0m     def getfloat(self, section, option, *, raw=False, vars=None,\n\u001b[1;32m    822\u001b[0m                  fallback=_UNSET, **kwargs):\n\u001b[0;32m--> 823\u001b[0;31m         return self._get_conv(section, option, float, raw=raw, vars=vars,\n\u001b[0m\u001b[1;32m    824\u001b[0m                               fallback=fallback, **kwargs)\n\u001b[1;32m    825\u001b[0m \u001b[0;34m\u001b[0m\u001b[0m\n",
      "\u001b[0;32m~/anaconda3/lib/python3.8/configparser.py\u001b[0m in \u001b[0;36m_get_conv\u001b[0;34m(self, section, option, conv, raw, vars, fallback, **kwargs)\u001b[0m\n\u001b[1;32m    806\u001b[0m                   fallback=_UNSET, **kwargs):\n\u001b[1;32m    807\u001b[0m         \u001b[0;32mtry\u001b[0m\u001b[0;34m:\u001b[0m\u001b[0;34m\u001b[0m\u001b[0;34m\u001b[0m\u001b[0m\n\u001b[0;32m--> 808\u001b[0;31m             return self._get(section, conv, option, raw=raw, vars=vars,\n\u001b[0m\u001b[1;32m    809\u001b[0m                              **kwargs)\n\u001b[1;32m    810\u001b[0m         \u001b[0;32mexcept\u001b[0m \u001b[0;34m(\u001b[0m\u001b[0mNoSectionError\u001b[0m\u001b[0;34m,\u001b[0m \u001b[0mNoOptionError\u001b[0m\u001b[0;34m)\u001b[0m\u001b[0;34m:\u001b[0m\u001b[0;34m\u001b[0m\u001b[0;34m\u001b[0m\u001b[0m\n",
      "\u001b[0;32m~/anaconda3/lib/python3.8/configparser.py\u001b[0m in \u001b[0;36m_get\u001b[0;34m(self, section, conv, option, **kwargs)\u001b[0m\n\u001b[1;32m    801\u001b[0m \u001b[0;34m\u001b[0m\u001b[0m\n\u001b[1;32m    802\u001b[0m     \u001b[0;32mdef\u001b[0m \u001b[0m_get\u001b[0m\u001b[0;34m(\u001b[0m\u001b[0mself\u001b[0m\u001b[0;34m,\u001b[0m \u001b[0msection\u001b[0m\u001b[0;34m,\u001b[0m \u001b[0mconv\u001b[0m\u001b[0;34m,\u001b[0m \u001b[0moption\u001b[0m\u001b[0;34m,\u001b[0m \u001b[0;34m**\u001b[0m\u001b[0mkwargs\u001b[0m\u001b[0;34m)\u001b[0m\u001b[0;34m:\u001b[0m\u001b[0;34m\u001b[0m\u001b[0;34m\u001b[0m\u001b[0m\n\u001b[0;32m--> 803\u001b[0;31m         \u001b[0;32mreturn\u001b[0m \u001b[0mconv\u001b[0m\u001b[0;34m(\u001b[0m\u001b[0mself\u001b[0m\u001b[0;34m.\u001b[0m\u001b[0mget\u001b[0m\u001b[0;34m(\u001b[0m\u001b[0msection\u001b[0m\u001b[0;34m,\u001b[0m \u001b[0moption\u001b[0m\u001b[0;34m,\u001b[0m \u001b[0;34m**\u001b[0m\u001b[0mkwargs\u001b[0m\u001b[0;34m)\u001b[0m\u001b[0;34m)\u001b[0m\u001b[0;34m\u001b[0m\u001b[0;34m\u001b[0m\u001b[0m\n\u001b[0m\u001b[1;32m    804\u001b[0m \u001b[0;34m\u001b[0m\u001b[0m\n\u001b[1;32m    805\u001b[0m     def _get_conv(self, section, option, conv, *, raw=False, vars=None,\n",
      "\u001b[0;31mValueError\u001b[0m: could not convert string to float: '[0, 0, 1]'"
     ]
    }
   ],
   "source": [
    "import configparser\n",
    "\n",
    "parser = configparser.ConfigParser()\n",
    "parser.read(\"Kc.cfg\")\n",
    "\n",
    "try:\n",
    "    membrane_axis = parser.getfloat(\"User config\", \"membrane_axis\")\n",
    "except configparser.Error:\n",
    "    membrane_axis = [0, 0, 2]\n",
    "    \n",
    "print(membrane_axis[5])"
   ]
  },
  {
   "cell_type": "code",
   "execution_count": 7,
   "metadata": {},
   "outputs": [],
   "source": [
    "a = [[1, 2, 3], \n",
    "     [4, 5, 6], \n",
    "     [7, 8, 9], \n",
    "     [10, 11, 12]\n",
    "    ]"
   ]
  },
  {
   "cell_type": "code",
   "execution_count": 33,
   "metadata": {},
   "outputs": [
    {
     "name": "stdout",
     "output_type": "stream",
     "text": [
      "[[ 1  2  3]\n",
      " [ 4  5  6]\n",
      " [ 7  8  9]\n",
      " [10 11 12]]\n",
      "[[ 2  3]\n",
      " [ 5  6]\n",
      " [ 8  9]\n",
      " [11 12]]\n"
     ]
    }
   ],
   "source": [
    "print(a)\n",
    "\n",
    "a = np.array(a)\n",
    "print(np.array(a[:, [1,2]]))"
   ]
  },
  {
   "cell_type": "code",
   "execution_count": 35,
   "metadata": {},
   "outputs": [
    {
     "name": "stdout",
     "output_type": "stream",
     "text": [
      "[ 2.5  5.5  8.5 11.5]\n"
     ]
    }
   ],
   "source": [
    "b = np.mean(a[:, [1, 2]], axis=1)\n",
    "\n",
    "print(b)"
   ]
  },
  {
   "cell_type": "code",
   "execution_count": 3,
   "metadata": {},
   "outputs": [],
   "source": [
    "import numpy as np\n",
    "import matplotlib.pyplot as plt\n",
    "\n",
    "data = np.random.normal(loc=100,scale=10,size=(500,1,32))\n",
    "hist = np.ones((32,20)) # initialise hist\n",
    "for z in range(32):\n",
    "    hist[z],edges = np.histogram(data[:,0,z],bins=np.arange(80,122,2))"
   ]
  },
  {
   "cell_type": "code",
   "execution_count": 6,
   "metadata": {},
   "outputs": [],
   "source": [
    "a = ['a', 'b', 'c', 'a']\n",
    "b = np.unique(a)"
   ]
  },
  {
   "cell_type": "code",
   "execution_count": 7,
   "metadata": {},
   "outputs": [
    {
     "name": "stdout",
     "output_type": "stream",
     "text": [
      "['a' 'b' 'c']\n"
     ]
    }
   ],
   "source": [
    "print(b)"
   ]
  },
  {
   "cell_type": "code",
   "execution_count": 7,
   "metadata": {},
   "outputs": [],
   "source": [
    "import numpy as np\n",
    "import matplotlib.pyplot as plt\n",
    "from scipy.optimize import curve_fit\n",
    "import math"
   ]
  },
  {
   "cell_type": "code",
   "execution_count": 8,
   "metadata": {},
   "outputs": [],
   "source": [
    "# Function to be fitted\n",
    "# def gauss(x, mu, sigma):\n",
    "#     return np.exp(-.5 * ((x - mu * np.ones(len(x))) / sigma)**2) / (sigma * (2 * math.pi) ** .5)\n",
    "def gauss(x, x0, y0, sigma):\n",
    "    p = [x0, y0, sigma]\n",
    "    return p[1]* np.exp(-((x-p[0]*np.ones(len(x)))/p[2])**2)"
   ]
  },
  {
   "cell_type": "code",
   "execution_count": 22,
   "metadata": {},
   "outputs": [
    {
     "name": "stdout",
     "output_type": "stream",
     "text": [
      "19.033066374652638\n"
     ]
    },
    {
     "data": {
      "image/png": "[encoded data removed]",
      "text/plain": [
       "<Figure size 432x288 with 1 Axes>"
      ]
     },
     "metadata": {
      "needs_background": "light"
     },
     "output_type": "display_data"
    }
   ],
   "source": [
    "# Create data:\n",
    "# x0, sigma = 0, 0.1\n",
    "# y, xe  = np.histogram(np.random.normal(x0, sigma, 1000))\n",
    "# x = .5 * (xe[:-1] + xe[1:])\n",
    "\n",
    "x = []\n",
    "y = []\n",
    "with open('fit.dat', 'r') as f:\n",
    "    for line in f:\n",
    "        x.append(float(line.split()[0]))\n",
    "        y.append(float(line.split()[1]))\n",
    "\n",
    "# Initialization parameters\n",
    "p0 = [15, 1, 3]\n",
    "# Fit the data with the function\n",
    "fit, tmp = curve_fit(gauss, x, y, p0=p0)\n",
    "\n",
    "print(fit[0])\n",
    "\n",
    "# Plot the results\n",
    "plt.title('Fit parameters:\\n x0=%.6f y0=%.2f sigma=%.6f' % (fit[0], fit[1], fit[2]))\n",
    "# Data\n",
    "plt.plot(x, y, 'r--')\n",
    "# Fitted function\n",
    "x_fine = np.linspace(x[0], x[-1], 100)\n",
    "plt.plot(x_fine, gauss(x_fine, fit[0], fit[1], fit[2]), 'b-')\n",
    "plt.savefig('Gaussian_fit.png')\n",
    "plt.show()"
   ]
  },
  {
   "cell_type": "code",
   "execution_count": 2,
   "metadata": {},
   "outputs": [],
   "source": [
    "coffee_growers = [\"Ethiopia\", \"Kenya\", \"Rwanda\", \"Brazil\"]"
   ]
  },
  {
   "cell_type": "code",
   "execution_count": 3,
   "metadata": {},
   "outputs": [
    {
     "name": "stdout",
     "output_type": "stream",
     "text": [
      "Ethiopia\n"
     ]
    }
   ],
   "source": [
    "print(coffee_growers[0])"
   ]
  },
  {
   "cell_type": "code",
   "execution_count": 1,
   "metadata": {},
   "outputs": [
    {
     "ename": "FileNotFoundError",
     "evalue": "[Errno 2] No such file or directory: '6m0j/tmp.xvg'",
     "output_type": "error",
     "traceback": [
      "\u001b[0;31m---------------------------------------------------------------------------\u001b[0m",
      "\u001b[0;31mFileNotFoundError\u001b[0m                         Traceback (most recent call last)",
      "\u001b[0;32m<ipython-input-1-e26e8ad1c9d7>\u001b[0m in \u001b[0;36m<module>\u001b[0;34m\u001b[0m\n\u001b[1;32m      1\u001b[0m \u001b[0mnewline\u001b[0m \u001b[0;34m=\u001b[0m \u001b[0;34m[\u001b[0m\u001b[0;34m]\u001b[0m\u001b[0;34m\u001b[0m\u001b[0;34m\u001b[0m\u001b[0m\n\u001b[0;32m----> 2\u001b[0;31m \u001b[0;32mwith\u001b[0m \u001b[0mopen\u001b[0m\u001b[0;34m(\u001b[0m\u001b[0;34m'6m0j/tmp.xvg'\u001b[0m\u001b[0;34m)\u001b[0m \u001b[0;32mas\u001b[0m \u001b[0mf\u001b[0m\u001b[0;34m:\u001b[0m\u001b[0;34m\u001b[0m\u001b[0;34m\u001b[0m\u001b[0m\n\u001b[0m\u001b[1;32m      3\u001b[0m     \u001b[0;32mfor\u001b[0m \u001b[0mline\u001b[0m \u001b[0;32min\u001b[0m \u001b[0mf\u001b[0m\u001b[0;34m:\u001b[0m\u001b[0;34m\u001b[0m\u001b[0;34m\u001b[0m\u001b[0m\n\u001b[1;32m      4\u001b[0m         \u001b[0mcontent\u001b[0m \u001b[0;34m=\u001b[0m \u001b[0mline\u001b[0m\u001b[0;34m.\u001b[0m\u001b[0msplit\u001b[0m\u001b[0;34m(\u001b[0m\u001b[0;34m)\u001b[0m\u001b[0;34m\u001b[0m\u001b[0;34m\u001b[0m\u001b[0m\n\u001b[1;32m      5\u001b[0m         \u001b[0mtimestamp\u001b[0m \u001b[0;34m=\u001b[0m \u001b[0mint\u001b[0m\u001b[0;34m(\u001b[0m\u001b[0mfloat\u001b[0m\u001b[0;34m(\u001b[0m\u001b[0mcontent\u001b[0m\u001b[0;34m[\u001b[0m\u001b[0;36m0\u001b[0m\u001b[0;34m]\u001b[0m\u001b[0;34m)\u001b[0m\u001b[0;34m)\u001b[0m\u001b[0;34m\u001b[0m\u001b[0;34m\u001b[0m\u001b[0m\n",
      "\u001b[0;31mFileNotFoundError\u001b[0m: [Errno 2] No such file or directory: '6m0j/tmp.xvg'"
     ]
    }
   ],
   "source": [
    "newline = []\n",
    "with open('6m0j/tmp.xvg') as f:\n",
    "    for line in f:\n",
    "        content = line.split()\n",
    "        timestamp = int(float(content[0]))\n",
    "        if timestamp % 1000 == 0:\n",
    "            newline.append(line)\n",
    "            \n",
    "with open('6m0j/energy_every1000.xvg', 'w') as f:\n",
    "    for line in newline:\n",
    "        f.write(line)"
   ]
  },
  {
   "cell_type": "code",
   "execution_count": 6,
   "metadata": {},
   "outputs": [
    {
     "name": "stdout",
     "output_type": "stream",
     "text": [
      "[[0.   0.  ]\n",
      " [0.25 0.25]\n",
      " [0.5  0.5 ]\n",
      " [1.   1.  ]]\n",
      "[[ 0.  10. ]\n",
      " [-2.5  4. ]\n",
      " [-2.   8. ]\n",
      " [-1.  16. ]]\n",
      "[[ 0.    5.  ]\n",
      " [-1.25  2.  ]\n",
      " [-1.    4.  ]\n",
      " [-0.5   8.  ]]\n",
      "-0.5\n",
      "18.0\n",
      "[[1.         0.5       ]\n",
      " [0.         0.        ]\n",
      " [0.2        0.33333333]\n",
      " [0.6        1.        ]]\n"
     ]
    }
   ],
   "source": [
    "import numpy as np\n",
    "from sklearn.preprocessing import MinMaxScaler\n",
    "\n",
    "data = [[-1, 2], [-0.5, 6], [0, 10], [1, 18]]\n",
    "scaler = MinMaxScaler()\n",
    "data = scaler.fit_transform(data)\n",
    "print(data)\n",
    "\n",
    "data2 = [[2, 12], [-0.5, 6], [0, 10], [1, 18]]\n",
    "data2 = np.array(data2)\n",
    "print(data2 - 2)\n",
    "print((data2 - 2) / 2)\n",
    "\n",
    "print(np.min(data2))\n",
    "print(np.max(data2))\n",
    "\n",
    "data2 = scaler.fit_transform(data2)\n",
    "print(data2)"
   ]
  },
  {
   "cell_type": "code",
   "execution_count": 14,
   "metadata": {},
   "outputs": [
    {
     "name": "stdout",
     "output_type": "stream",
     "text": [
      "[[0.33333333 0.5        0.5       ]\n",
      " [1.         1.         1.        ]\n",
      " [0.         0.         0.        ]]\n",
      "[[0.33333333 0.75       0.5       ]\n",
      " [1.         1.         1.        ]\n",
      " [0.         0.         0.        ]]\n",
      "[[1. 3. 1.]\n",
      " [3. 4. 2.]\n",
      " [0. 0. 0.]]\n"
     ]
    }
   ],
   "source": [
    "a = [[1, 2, 1], [3, 4, 2], [0, 0, 0]]\n",
    "b = [[5, 8, 6], [1, 1, 1], [0, 0, 0]]\n",
    "scaler.fit(a)\n",
    "a = scaler.transform(a)\n",
    "print(a)\n",
    "c = a\n",
    "c[0][1] = .75\n",
    "print(c)\n",
    "c = scaler.inverse_transform(c)\n",
    "print(c)\n",
    "\n",
    "# b = scaler.fit_transform(b)\n",
    "# print(b)"
   ]
  },
  {
   "cell_type": "code",
   "execution_count": 9,
   "metadata": {},
   "outputs": [
    {
     "name": "stdout",
     "output_type": "stream",
     "text": [
      "100\n",
      "300\n",
      "1000\n"
     ]
    }
   ],
   "source": [
    "l = [1000, 300, 100, 30]\n",
    "for i in range(len(l) - 2, -1, -1):\n",
    "    print(l[i])"
   ]
  },
  {
   "cell_type": "code",
   "execution_count": 81,
   "metadata": {
    "scrolled": true
   },
   "outputs": [
    {
     "data": {
      "text/plain": [
       "Text(0.5, 1.0, 'RMSD of ACE2 receptor')"
      ]
     },
     "execution_count": 81,
     "metadata": {},
     "output_type": "execute_result"
    },
    {
     "data": {
      "image/png": "[encoded data removed]",
      "text/plain": [
       "<Figure size 792x504 with 1 Axes>"
      ]
     },
     "metadata": {
      "needs_background": "light"
     },
     "output_type": "display_data"
    }
   ],
   "source": [
    "import numpy as np \n",
    "\n",
    "idata = np.loadtxt(fname='test.txt', comments=['#','@','$','&'])\n",
    "\n",
    "import matplotlib.pyplot as plt\n",
    "\n",
    "plt.figure(figsize=(11,7))\n",
    "\n",
    "plt.plot(idata[:, 0], idata[:, 1], label = '6M0J')\n",
    "\n",
    "plt.xlabel('Time (ps)', fontsize = 20)\n",
    "plt.ylabel('RMSD (nm)', fontsize = 20)\n",
    "# plt.legend(loc='upper right')\n",
    "\n",
    "plt.xlim(0, 2e6)\n",
    "plt.ylim(0, .6)\n",
    "\n",
    "# plt.colorbar()\n",
    "plt.title('RMSD of ACE2 receptor', fontsize = 30)\n",
    "# plt.savefig('scatter2.png')"
   ]
  },
  {
   "cell_type": "code",
   "execution_count": null,
   "metadata": {},
   "outputs": [],
   "source": []
  }
 ],
 "metadata": {
  "kernelspec": {
   "display_name": "Python [conda env:lab] *",
   "language": "python",
   "name": "conda-env-lab-py"
  },
  "language_info": {
   "codemirror_mode": {
    "name": "ipython",
    "version": 3
   },
   "file_extension": ".py",
   "mimetype": "text/x-python",
   "name": "python",
   "nbconvert_exporter": "python",
   "pygments_lexer": "ipython3",
   "version": "3.10.4"
  }
 },
 "nbformat": 4,
 "nbformat_minor": 4
}
