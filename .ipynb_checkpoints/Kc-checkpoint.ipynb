{
 "cells": [
  {
   "cell_type": "code",
   "execution_count": 1,
   "metadata": {},
   "outputs": [
    {
     "name": "stdout",
     "output_type": "stream",
     "text": [
      "\n",
      "    Requirements: Python 3.x\n",
      "                  Scipy\n",
      "                  Numpy package\n",
      "                  Matplotlib package\n",
      "                  MDAnalysis package (MUST HAVE!!!)\n",
      "\n",
      "    This code is developed by Cong Phuong Cao, as member of VNU Keylab.\n",
      "\n",
      "    It was based from paper:\n",
      "\n",
      "    Khelashvili, G., Kollmitzer, B., Heftberger, P., Pabst, G., & Harries, D. (2013). \n",
      "    Calculating the bending modulus for multicomponent lipid membranes in different \n",
      "    thermodynamic phases. Journal of chemical theory and computation, 9(9), 3866-3871.\n",
      "\n",
      "    https://pubs.acs.org/doi/10.1021/ct400492e\n",
      "\n",
      "    If you have any problem, please contact my email:\n",
      "    \n",
      "        >>>     congphuongcao@gmail.com     <<<\n",
      "        \n",
      "    First update: 27/03/2021\n",
      "    Last update:  20/06/2021\n",
      "\n"
     ]
    }
   ],
   "source": [
    "info = '''\n",
    "    Requirements: Python 3.x\n",
    "                  Scipy\n",
    "                  Numpy package\n",
    "                  Matplotlib package\n",
    "                  MDAnalysis package (MUST HAVE!!!)\n",
    "\n",
    "    This code is developed by Cong Phuong Cao, as member of VNU Keylab.\n",
    "\n",
    "    It was based from paper:\n",
    "\n",
    "    Khelashvili, G., Kollmitzer, B., Heftberger, P., Pabst, G., & Harries, D. (2013). \n",
    "    Calculating the bending modulus for multicomponent lipid membranes in different \n",
    "    thermodynamic phases. Journal of chemical theory and computation, 9(9), 3866-3871.\n",
    "\n",
    "    https://pubs.acs.org/doi/10.1021/ct400492e\n",
    "\n",
    "    If you have any problem, please contact my email:\n",
    "    \n",
    "        >>>     congphuongcao@gmail.com     <<<\n",
    "        \n",
    "    First update: 27/03/2021\n",
    "    Last update:  20/06/2021\n",
    "'''\n",
    "\n",
    "print(info)"
   ]
  },
  {
   "cell_type": "code",
   "execution_count": 2,
   "metadata": {},
   "outputs": [],
   "source": [
    "# import sys\n",
    "# sys.path.append('/home/cao/anaconda3/envs/hus/lib/python3.8/site-packages')"
   ]
  },
  {
   "cell_type": "code",
   "execution_count": 3,
   "metadata": {},
   "outputs": [],
   "source": [
    "import datetime"
   ]
  },
  {
   "cell_type": "code",
   "execution_count": 4,
   "metadata": {},
   "outputs": [],
   "source": [
    "import numpy as np\n",
    "from numpy.linalg import norm\n",
    "\n",
    "from matplotlib import pyplot as plt \n",
    "from matplotlib import gridspec as grs\n",
    "import matplotlib\n",
    "\n",
    "from scipy.optimize import curve_fit"
   ]
  },
  {
   "cell_type": "code",
   "execution_count": 5,
   "metadata": {},
   "outputs": [],
   "source": [
    "import MDAnalysis as mda\n",
    "from MDAnalysis import transformations as trans"
   ]
  },
  {
   "cell_type": "code",
   "execution_count": 6,
   "metadata": {},
   "outputs": [],
   "source": [
    "import warnings"
   ]
  },
  {
   "cell_type": "code",
   "execution_count": 7,
   "metadata": {},
   "outputs": [],
   "source": [
    "import ast # for reading dictionary from file"
   ]
  },
  {
   "cell_type": "code",
   "execution_count": 8,
   "metadata": {},
   "outputs": [],
   "source": [
    "import configparser"
   ]
  },
  {
   "cell_type": "code",
   "execution_count": 9,
   "metadata": {},
   "outputs": [
    {
     "data": {
      "text/plain": [
       "['Kc.cfg']"
      ]
     },
     "execution_count": 9,
     "metadata": {},
     "output_type": "execute_result"
    }
   ],
   "source": [
    "# configparser updates values from config file\n",
    "# https://docs.python.org/3/library/configparser.html\n",
    "# https://www.programcreek.com/python/example/72204/configparser.Error\n",
    "\n",
    "parser = configparser.ConfigParser()\n",
    "parser.read('Kc.cfg')"
   ]
  },
  {
   "cell_type": "code",
   "execution_count": 10,
   "metadata": {},
   "outputs": [],
   "source": [
    "# develop flag\n",
    "try:\n",
    "    develop_mode = parser.getboolean('Program config', 'develop_mode')\n",
    "except configparser.Error:\n",
    "    develop_mode = False\n",
    "\n",
    "if not develop_mode: matplotlib.use('Agg')"
   ]
  },
  {
   "cell_type": "code",
   "execution_count": 11,
   "metadata": {},
   "outputs": [],
   "source": [
    "# debug flag\n",
    "try:\n",
    "    debug_mode = parser.getboolean('Program config', 'debug_mode')\n",
    "except configparser.Error:\n",
    "    debug_mode = False"
   ]
  },
  {
   "cell_type": "code",
   "execution_count": 12,
   "metadata": {},
   "outputs": [
    {
     "data": {
      "text/plain": [
       "38"
      ]
     },
     "execution_count": 12,
     "metadata": {},
     "output_type": "execute_result"
    }
   ],
   "source": [
    "# file to write system infomation during the run\n",
    "try:\n",
    "    file_log = parser.get('User config', 'file_log')\n",
    "except configparser.Error:\n",
    "    file_log = 'Kc.log'\n",
    "\n",
    "flog = open(file_log, 'a')\n",
    "\n",
    "flog.write('Started on %s\\n' % datetime.datetime.now())"
   ]
  },
  {
   "cell_type": "code",
   "execution_count": 13,
   "metadata": {},
   "outputs": [],
   "source": [
    "# BE CAREFUL OF THESE LINES!!!\n",
    "np.seterr(divide = 'ignore')\n",
    "\n",
    "warnings.filterwarnings('ignore',category=UserWarning)"
   ]
  },
  {
   "cell_type": "code",
   "execution_count": 14,
   "metadata": {},
   "outputs": [
    {
     "name": "stderr",
     "output_type": "stream",
     "text": [
      "/home/cao/anaconda3/envs/hus/lib/python3.8/site-packages/MDAnalysis/topology/tpr/utils.py:389: DeprecationWarning: TPR files index residues from 0. From MDAnalysis version 2.0, resids will start at 1 instead. If you wish to keep indexing resids from 0, please set `tpr_resid_from_one=False` as a keyword argument when you create a new Topology or Universe.\n",
      "  warnings.warn(\"TPR files index residues from 0. \"\n"
     ]
    },
    {
     "name": "stdout",
     "output_type": "stream",
     "text": [
      "<Universe with 183282 atoms>\n"
     ]
    }
   ],
   "source": [
    "# read the data from tpr and xtc\n",
    "# https://www.mdanalysis.org/pages/basic_example/\n",
    "# https://www.mdanalysis.org/MDAnalysisTutorial/basics.html\n",
    "# https://www.mdanalysis.org/MDAnalysisTutorial/atomgroups.html\n",
    "\n",
    "try:\n",
    "    input_tpr = parser.get('User config', 'input_tpr')\n",
    "except configparser.Error:\n",
    "    print('Error: Input .tpr file missing!')\n",
    "    sys.exit(1)\n",
    "    \n",
    "try:\n",
    "    input_xtc = parser.get('User config', 'input_xtc')\n",
    "except configparser.Error:\n",
    "    print('Error: Input .xtc file missing!')\n",
    "    sys.exit(1)\n",
    "    \n",
    "flog.write('input1 = %s\\n' % input_tpr)\n",
    "flog.write('input2 = %s\\n' % input_xtc)\n",
    "\n",
    "lipsys = mda.Universe(input_tpr, input_xtc)\n",
    "print(lipsys)"
   ]
  },
  {
   "cell_type": "code",
   "execution_count": 15,
   "metadata": {},
   "outputs": [
    {
     "name": "stdout",
     "output_type": "stream",
     "text": [
      "threshold ratio:  0.03\n"
     ]
    }
   ],
   "source": [
    "# tilt vector for molecule types: point to the outer of membrane\n",
    "# this dictionary must be updated before every new calculation!!!\n",
    "# resvedict = {\n",
    "#     'DPPC': ['C214 C215 C216 C314 C315 C316', 'C2  P'],\n",
    "#     'POPC': ['C216 C217 C218 C314 C315 C316', 'C2  P'],\n",
    "#     'PSM' : ['C14F C15F C16F C16S C17S C18S', 'C2S P'],\n",
    "#     'CHL1': ['C17',                           'C3'],\n",
    "# }\n",
    "try:\n",
    "    dictionary_data = parser.get('User config', 'dictionary_data')\n",
    "except configparser.Error:\n",
    "    dictionary_data = 'dictionary.dat'\n",
    "\n",
    "with open(dictionary_data, 'r') as f: d_data = f.read()\n",
    "\n",
    "resvedict = ast.literal_eval(d_data)\n",
    "\n",
    "# ratio threshold if a molecule type can be neglected\n",
    "try:\n",
    "    threshold_ratio = parser.getfloat('Program config', 'threshold_ratio')\n",
    "except configparser.Error:\n",
    "    threshold_ratio = 0.03     # 3%\n",
    "\n",
    "print('threshold ratio: ', threshold_ratio)    \n",
    "flog.write('threshold ratio: %.3f\\n' % threshold_ratio)\n",
    "    \n",
    "# direction of membrane\n",
    "try:\n",
    "    Oaxis = ast.literal_eval(parser.get('User config', 'membrane_axis'))\n",
    "except configparser.Error:\n",
    "    Oaxis = [0, 0, 1]     # z-axis"
   ]
  },
  {
   "cell_type": "code",
   "execution_count": 16,
   "metadata": {},
   "outputs": [],
   "source": [
    "# number of frame to calculate bending modulus!!!\n",
    "try:\n",
    "    n_frame = parser.getint('Program config', 'n_frame')\n",
    "except configparser.Error:\n",
    "    n_frame = lipsys.trajectory.n_frames"
   ]
  },
  {
   "cell_type": "code",
   "execution_count": 17,
   "metadata": {},
   "outputs": [],
   "source": [
    "# the temperature of the system\n",
    "try:\n",
    "    Temp = parser.getfloat('User config', 'temperature')\n",
    "except configparser.Error:\n",
    "    Temp = 323.15 # Kelvin\n",
    "\n",
    "# Boltzmann constant\n",
    "kB = 1.38064852e-23 # J per Kelvin"
   ]
  },
  {
   "cell_type": "code",
   "execution_count": 18,
   "metadata": {},
   "outputs": [],
   "source": [
    "# molecules in range radius are counted as neighbors\n",
    "try:\n",
    "    neighbor_radius = parser.getfloat('Program config', 'neighbor_radius')\n",
    "except configparser.Error:\n",
    "    neighbor_radius = 20\n",
    "\n",
    "# neighbor_list is updated every update_rate frames\n",
    "try:\n",
    "    update_rate = parser.getint('Program config', 'update_rate')\n",
    "except configparser.Error:\n",
    "    update_rate = 10 "
   ]
  },
  {
   "cell_type": "code",
   "execution_count": 19,
   "metadata": {},
   "outputs": [
    {
     "data": {
      "text/plain": [
       "24"
      ]
     },
     "execution_count": 19,
     "metadata": {},
     "output_type": "execute_result"
    }
   ],
   "source": [
    "# only alpha in a specific range are fitted\n",
    "try:\n",
    "    fit_range = ast.literal_eval(parser.get('User config', 'fit_range'))\n",
    "except configparser.Error:\n",
    "    fit_range = [5, 20] # in degree\n",
    "    \n",
    "flog.write('fit range : %.1f to %.1f\\n' % (fit_range[0], fit_range[1]))"
   ]
  },
  {
   "cell_type": "code",
   "execution_count": 20,
   "metadata": {},
   "outputs": [],
   "source": [
    "# a trial run will perform all calculations except fitting\n",
    "# this flag is used for determining proper fit_range!!!\n",
    "# Note: trial_run will set n_frame = 1/10 total number of frames\n",
    "#       and use tilt vector center for molecular center instead of its center of geometry!\n",
    "try:\n",
    "    trial_run = parser.getboolean('User config', 'trial_run')\n",
    "except configparser.Error:\n",
    "    trial_run = False\n",
    "\n",
    "if trial_run: n_frame = int(lipsys.trajectory.n_frames / 10)"
   ]
  },
  {
   "cell_type": "code",
   "execution_count": 21,
   "metadata": {},
   "outputs": [],
   "source": [
    "# if n_atoms of a residue is less than n_atoms_water, that residue is reckoned as water or ion\n",
    "try:\n",
    "    n_atoms_water = parser.getint('Program config', 'n_atoms_water')\n",
    "except configparser.Error:\n",
    "    n_atoms_water = 5"
   ]
  },
  {
   "cell_type": "code",
   "execution_count": 22,
   "metadata": {},
   "outputs": [],
   "source": [
    "def fit_func(x, chi_12, c):\n",
    "    '''quadratic function for fitting'''\n",
    "    \n",
    "    return chi_12 * x ** 2 + c"
   ]
  },
  {
   "cell_type": "code",
   "execution_count": 23,
   "metadata": {},
   "outputs": [],
   "source": [
    "# unwrap frames to make molecules whole\n",
    "# https://userguide.mdanalysis.org/stable/trajectories/transformations.html\n",
    "\n",
    "workflow = [trans.unwrap(lipsys.atoms)]\n",
    "lipsys.trajectory.add_transformations(*workflow)"
   ]
  },
  {
   "cell_type": "code",
   "execution_count": 24,
   "metadata": {},
   "outputs": [
    {
     "name": "stdout",
     "output_type": "stream",
     "text": [
      "maximum n_frame =  599\n",
      "n_frame =  10\n"
     ]
    }
   ],
   "source": [
    "print('maximum n_frame = ', lipsys.trajectory.n_frames)\n",
    "print('n_frame = ', n_frame)"
   ]
  },
  {
   "cell_type": "code",
   "execution_count": 25,
   "metadata": {},
   "outputs": [
    {
     "name": "stdout",
     "output_type": "stream",
     "text": [
      "n_residues =  1570\n"
     ]
    }
   ],
   "source": [
    "print('n_residues = ', lipsys.atoms.n_residues)"
   ]
  },
  {
   "cell_type": "code",
   "execution_count": 26,
   "metadata": {},
   "outputs": [
    {
     "name": "stdout",
     "output_type": "stream",
     "text": [
      "n_atoms =  183282\n"
     ]
    }
   ],
   "source": [
    "print('n_atoms = ', lipsys.atoms.n_atoms)"
   ]
  },
  {
   "cell_type": "code",
   "execution_count": 27,
   "metadata": {},
   "outputs": [
    {
     "name": "stdout",
     "output_type": "stream",
     "text": [
      "box = [188.01776 188.01776 200.87172]\n"
     ]
    }
   ],
   "source": [
    "print('box =', lipsys.dimensions[:3])\n",
    "box = lipsys.dimensions[:3]\n",
    "half_box = box * .5"
   ]
  },
  {
   "cell_type": "code",
   "execution_count": 28,
   "metadata": {},
   "outputs": [],
   "source": [
    "if debug_mode:\n",
    "    tmp = np.array([i for i in lipsys.atoms.resnames])\n",
    "    print(tmp)\n",
    "    print(tmp.shape)\n",
    "\n",
    "    tmp = np.array([i for i in lipsys.atoms.types])\n",
    "    print(tmp)\n",
    "    print(tmp.shape)\n",
    "\n",
    "    tmp = np.array([i for i in lipsys.atoms.names])\n",
    "    print(tmp)\n",
    "    print(tmp.shape)\n",
    "\n",
    "    tmp = np.array([coor for coor in lipsys.trajectory.ts.positions])\n",
    "    print(tmp)\n",
    "    print(tmp.shape)"
   ]
  },
  {
   "cell_type": "code",
   "execution_count": 29,
   "metadata": {},
   "outputs": [
    {
     "name": "stdout",
     "output_type": "stream",
     "text": [
      "74\n",
      "total residues = 1570\n"
     ]
    }
   ],
   "source": [
    "residict = {} # dictionary of number of residue type\n",
    "i_old = -1\n",
    "res_total = 0\n",
    "\n",
    "reslisdict = {} # dictionary of id list of residue type\n",
    "\n",
    "\n",
    "iwlist = [] # water and ions (ignored) residue types\n",
    "\n",
    "print(lipsys.residues[-1].atoms.n_atoms)\n",
    "\n",
    "for i in lipsys.residues.resids:\n",
    "    resname = lipsys.residues.resnames[i]\n",
    "    \n",
    "    if lipsys.residues[i].atoms.n_atoms < n_atoms_water: \n",
    "        iwlist.append(resname)\n",
    "        continue\n",
    "    \n",
    "    if (not residict.get(resname)):\n",
    "        residict[resname] = 1\n",
    "        reslisdict[resname] = [i]\n",
    "    elif (i != i_old):\n",
    "        i_old = i\n",
    "        residict[resname] += 1\n",
    "        reslisdict[resname].append(i)\n",
    "\n",
    "        \n",
    "iwlist = np.unique(iwlist)\n",
    "        \n",
    "    \n",
    "for i in residict:\n",
    "    res_total += residict[i]\n",
    "    \n",
    "    if debug_mode:\n",
    "        print(str(i) + ' \\t= ' + str(residict[i]))\n",
    "        print(reslisdict[i])\n",
    "    \n",
    "    \n",
    "print('total residues = ' + str(res_total))"
   ]
  },
  {
   "cell_type": "code",
   "execution_count": 30,
   "metadata": {},
   "outputs": [],
   "source": [
    "def TCVN(ares):\n",
    "    '''return: (T)ilt angle, (C)enter of geometry, tilt (V)ector, and (N)orm of tilt vector of molecule'''\n",
    "    \n",
    "    name = ares.resnames[0]\n",
    "    \n",
    "    A = ares.select_atoms('name ' + resvedict[name][0]).center_of_geometry()\n",
    "    B = ares.select_atoms('name ' + resvedict[name][1]).center_of_geometry()\n",
    "    \n",
    "    if trial_run: center = (A + B) / 2\n",
    "    else: center = ares.center_of_geometry()\n",
    "    \n",
    "    vecAB = B - A\n",
    "    \n",
    "    norAB = norm(vecAB)\n",
    "    \n",
    "    angle = np.arccos(np.dot(vecAB, Oaxis) / (norAB * norm(Oaxis))) # in radian\n",
    "    angle = np.rad2deg(angle) # in degree\n",
    "    \n",
    "    return angle, center, vecAB, norAB"
   ]
  },
  {
   "cell_type": "code",
   "execution_count": 31,
   "metadata": {},
   "outputs": [
    {
     "name": "stdout",
     "output_type": "stream",
     "text": [
      "percent of CER180 \t= 0.008917197452229299\n",
      "percent of BGLC \t= 0.008917197452229299\n",
      "percent of BGAL \t= 0.017834394904458598\n",
      "percent of BGALNA \t= 0.008917197452229299\n",
      "percent of ANE5AC \t= 0.008917197452229299\n",
      "percent of POPC \t= 0.3363057324840764\n",
      "percent of PSM \t= 0.09171974522292993\n",
      "percent of DPPC \t= 0.3490445859872611\n",
      "Warning: Tilt angle is too big at  DPPC 838 67.07879948587552\n",
      "percent of CHL1 \t= 0.16942675159235668\n"
     ]
    }
   ],
   "source": [
    "# leaflets\n",
    "reslisdic = [{}, {}] # for Oaxis+ and Oaxis-\n",
    "leaflet = [[], []] # contain all residue id of a single leaflet\n",
    "\n",
    "res_total_new = 0\n",
    "\n",
    "fig_num = 0\n",
    "\n",
    "iglist = [] # ignored residue types\n",
    "\n",
    "\n",
    "# check the distribution of tilt angle of all residue type\n",
    "\n",
    "for i in residict:\n",
    "    \n",
    "    print('percent of', i, '\\t=', residict[i] / res_total)\n",
    "    flog.write('percent of %7s = %.5f\\n' % (i, residict[i] / res_total))\n",
    "    \n",
    "    if (residict[i] / res_total < threshold_ratio): \n",
    "        iglist.append(i)\n",
    "        continue\n",
    "    \n",
    "    reslisdic[0][i] = []\n",
    "    reslisdic[1][i] = []\n",
    "    \n",
    "    res_total_new += residict[i]\n",
    "    cnt1 = 0\n",
    "    cnt2 = 0\n",
    "    tmp1 = []\n",
    "    tmp2 = []\n",
    "    \n",
    "    for idx in reslisdict[i]:\n",
    "        ares = lipsys.select_atoms('resid ' + str(idx))\n",
    "        angle = TCVN(ares)[0]\n",
    "        \n",
    "        if (angle < 90): \n",
    "            reslisdic[0][i].append(idx)\n",
    "            cnt1 += 1\n",
    "            tmp1.append(angle)\n",
    "        else:\n",
    "            reslisdic[1][i].append(idx)\n",
    "            cnt2 += 1\n",
    "            tmp2.append(angle)\n",
    "            \n",
    "        if (60 < angle and angle < 120):\n",
    "            print('Warning: Tilt angle is too big at ', i, idx, angle)\n",
    "        \n",
    "        \n",
    "    if (cnt1 != cnt2):\n",
    "        print('Error: Leaflets unbalanced!')\n",
    "        sys.exit(1)\n",
    "    \n",
    "    leaflet[0].extend(reslisdic[0][i])\n",
    "    leaflet[1].extend(reslisdic[1][i])\n",
    "    \n",
    "    if debug_mode:\n",
    "        print('Plotting ' + i + ' ...')\n",
    "\n",
    "        fig_num += 1\n",
    "        plt.figure(fig_num)\n",
    "        \n",
    "        plt.hist(np.concatenate((tmp1, tmp2)), bins=np.linspace(0, 180, 90), density=False)\n",
    "        plt.title('Tilt angle distribution of ' + i)\n",
    "        plt.xlabel('Tilt angle, degree')\n",
    "        plt.ylabel('Probability density (raw count)')\n",
    "        \n",
    "#         plt.subplot(1, 2, 1)\n",
    "#         plt.hist(tmp1, bins=np.linspace(0, 90, 50), density=True)\n",
    "        \n",
    "#         plt.subplot(1, 2, 2)\n",
    "#         plt.hist(tmp2, bins=np.linspace(90, 180, 50), density=True)\n",
    "        \n",
    "        plt.tight_layout()\n",
    "        fig = plt.gcf()\n",
    "        fig.savefig('Tilt angle distribution of ' + i + ' at the first frame.jpg')\n",
    "        \n",
    "#         plt.show()"
   ]
  },
  {
   "cell_type": "code",
   "execution_count": 32,
   "metadata": {},
   "outputs": [
    {
     "data": {
      "text/plain": [
       "< Timestep 0 with unit cell dimensions [188.01776 188.01776 200.87172  90.       90.       90.     ] >"
      ]
     },
     "execution_count": 32,
     "metadata": {},
     "output_type": "execute_result"
    }
   ],
   "source": [
    "# set the current frame of trajectory to the beginning\n",
    "lipsys.trajectory[0]"
   ]
  },
  {
   "cell_type": "code",
   "execution_count": 33,
   "metadata": {},
   "outputs": [],
   "source": [
    "# https://www.mdanalysis.org/MDAnalysisTutorial/writing.html\n",
    "\n",
    "# W = lipsys.select_atoms(\"all\")\n",
    "# W.write('test.gro')\n",
    "\n",
    "# lipsys.trajectory.next()\n",
    "\n",
    "# W = lipsys.select_atoms(\"all\")\n",
    "# W.write('test2.gro')\n",
    "\n",
    "# ... to check wrap function!"
   ]
  },
  {
   "cell_type": "code",
   "execution_count": 34,
   "metadata": {},
   "outputs": [],
   "source": [
    "def real_distance(A, B):\n",
    "    '''return distance between residue A and B concerning PBC'''\n",
    "    \n",
    "    vecAB = abs(B - A)\n",
    "    \n",
    "    for i in range(3):\n",
    "        if (vecAB[i] > half_box[i]):\n",
    "            vecAB[i] = box[i] - vecAB[i]\n",
    "    \n",
    "    return norm(vecAB)"
   ]
  },
  {
   "cell_type": "code",
   "execution_count": 35,
   "metadata": {},
   "outputs": [
    {
     "name": "stdout",
     "output_type": "stream",
     "text": [
      "Water and Ions residues: []\n",
      "Ignoring for residues: ['CER180', 'BGLC', 'BGAL', 'BGALNA', 'ANE5AC']\n",
      "Calculating for residues: ['POPC', 'PSM', 'DPPC', 'CHL1']\n"
     ]
    },
    {
     "data": {
      "text/plain": [
       "1"
      ]
     },
     "execution_count": 35,
     "metadata": {},
     "output_type": "execute_result"
    }
   ],
   "source": [
    "resname = list(reslisdic[0].keys())\n",
    "N = len(resname)\n",
    "\n",
    "print('Water and Ions residues:', iwlist)\n",
    "print('Ignoring for residues:', iglist)\n",
    "print('Calculating for residues:', resname)\n",
    "\n",
    "flog.write('Water and Ions residues: ')\n",
    "for i in iwlist: flog.write('%s, ' % i)\n",
    "flog.write('\\n')\n",
    "\n",
    "flog.write('Ignoring for residues: ')\n",
    "for i in iglist: flog.write('%s, ' % i)\n",
    "flog.write('\\n')\n",
    "\n",
    "flog.write('Calculating for residues: ')\n",
    "for i in resname: flog.write('%s, ' % i)\n",
    "flog.write('\\n')"
   ]
  },
  {
   "cell_type": "code",
   "execution_count": 36,
   "metadata": {},
   "outputs": [],
   "source": [
    "til = [None] * res_total\n",
    "cen = [None] * res_total\n",
    "vec = [None] * res_total\n",
    "nor = [None] * res_total"
   ]
  },
  {
   "cell_type": "code",
   "execution_count": 37,
   "metadata": {},
   "outputs": [],
   "source": [
    "def brute_force_loop():\n",
    "    '''calculate the distributions of the current frame so detailed with no tricks'''\n",
    "\n",
    "    # initialize values to reduce calculations\n",
    "\n",
    "    for I in range(N):\n",
    "        res = resname[I]\n",
    "\n",
    "        for leaf in range(2):\n",
    "            n = len(reslisdic[leaf][res])\n",
    "\n",
    "            for i in range(n):\n",
    "                r_i = reslisdic[leaf][res][i]\n",
    "                ares = lipsys.select_atoms('resid ' + str(r_i))\n",
    "                til[r_i], cen[r_i], vec[r_i], nor[r_i] = TCVN(ares)\n",
    "\n",
    "\n",
    "    # the main loop for 1 frame!\n",
    "    # method : Brute-force\n",
    "    \n",
    "    global fig_num\n",
    "    fig_num += 1\n",
    "    plt.figure(fig_num)\n",
    "    \n",
    "    gs0 = grs.GridSpec(2, 1)\n",
    "    gs0.update(wspace=0.025, hspace=0.025)\n",
    "    \n",
    "    for I in range(N):\n",
    "        res1 = resname[I]\n",
    "\n",
    "        for J in range(I, N):\n",
    "            res2 = resname[J]\n",
    "\n",
    "            alpha = []\n",
    "            distance = []\n",
    "\n",
    "            print('Calculating alpha of pairs of', res1, 'and', res2, '...')\n",
    "\n",
    "            for leaf in range(2):\n",
    "                print('  leaflet', leaf, '...')\n",
    "\n",
    "                n1 = len(reslisdic[leaf][res1])\n",
    "                n2 = len(reslisdic[leaf][res2])\n",
    "\n",
    "                for i in range(n1):\n",
    "\n",
    "                    for j in range(n2):\n",
    "\n",
    "                        if (res1 == res2 and j <= i): continue\n",
    "\n",
    "                        r_i = reslisdic[leaf][res1][i]\n",
    "                        r_j = reslisdic[leaf][res2][j]\n",
    "\n",
    "                        dis = real_distance(cen[r_i], cen[r_j])\n",
    "                        distance.append(dis)\n",
    "\n",
    "                        if (dis < 10 and (til[r_i] < 10 or til[r_j] < 10)):\n",
    "                            angle = np.arccos(np.dot(vec[r_i], vec[r_j]) / (nor[r_i] * nor[r_j])) # in radian\n",
    "                            angle = np.rad2deg(angle) # in degree\n",
    "                            alpha.append(angle)\n",
    "\n",
    "\n",
    "            print('Complete!')\n",
    "\n",
    "            print(len(alpha), 'alpha')\n",
    "            print(len(distance), 'distance')\n",
    "            \n",
    "\n",
    "            plt.subplot(gs0[0])\n",
    "            P_alpha, bins = np.histogram(alpha, bins=np.linspace(0, 90, 91), density=True)\n",
    "            alpha_new = .5 * (bins[1:] + bins[:-1])\n",
    "            plt.plot(alpha_new, P_alpha, label=res1 + '/' + res2)\n",
    "\n",
    "            plt.subplot(gs0[1])\n",
    "            PMF = -1 * np.log(P_alpha / np.sin(np.deg2rad(alpha_new)))\n",
    "            plt.plot(alpha_new, PMF, label=res1 + '/' + res2)\n",
    "            \n",
    "            plt.tight_layout()\n",
    "\n",
    "    \n",
    "    plt.subplot(gs0[0])\n",
    "    plt.ylabel('P(alpha)')\n",
    "    plt.legend(loc='upper right')\n",
    "    plt.xlim([0, 90])\n",
    "\n",
    "    plt.subplot(gs0[1])\n",
    "    plt.ylabel('Potential of Mean force, kBT')\n",
    "    plt.xlabel('splay angle, alpha, degree')\n",
    "    plt.legend(loc='upper right')\n",
    "    plt.xlim([0, 90])\n",
    "\n",
    "    fig = plt.gcf()\n",
    "    fig.set_size_inches(12.5, 10.5)\n",
    "    fig.savefig('P_alpha and PMF at the first frame.jpg')\n",
    "    \n",
    "#     plt.show()"
   ]
  },
  {
   "cell_type": "code",
   "execution_count": 38,
   "metadata": {},
   "outputs": [],
   "source": [
    "if debug_mode: brute_force_loop()"
   ]
  },
  {
   "cell_type": "code",
   "execution_count": 39,
   "metadata": {},
   "outputs": [],
   "source": [
    "def check_displacement():\n",
    "    '''check the distribution of displacement of all molecules between the first and last frame'''\n",
    "    \n",
    "    lipsys.trajectory[-1]\n",
    "\n",
    "    max_displacement = []\n",
    "\n",
    "    for I in range(N):\n",
    "        res = resname[I]\n",
    "\n",
    "        for leaf in range(2):\n",
    "            n = len(reslisdic[leaf][res])\n",
    "\n",
    "            for i in range(n):\n",
    "                r_i = reslisdic[leaf][res][i]\n",
    "                ares = lipsys.select_atoms('resid ' + str(int(r_i)))\n",
    "                c= TCVN(ares)[1]\n",
    "                max_displacement.append(real_distance(c, cen[r_i]))\n",
    "\n",
    "                \n",
    "    global fig_num\n",
    "    fig_num += 1\n",
    "    plt.figure(fig_num)            \n",
    "    \n",
    "    plt.hist(max_displacement, bins=np.linspace(0, 50, 100), density=False)\n",
    "    plt.xlabel('Displacement distance, angstrom')\n",
    "    plt.ylabel('Probability density (raw count)')\n",
    "    \n",
    "    fig = plt.gcf()\n",
    "    fig.savefig('Displacement of residues at the first frame.jpg')\n",
    "#     plt.show()\n",
    "\n",
    "    lipsys.trajectory[0]"
   ]
  },
  {
   "cell_type": "code",
   "execution_count": 40,
   "metadata": {},
   "outputs": [],
   "source": [
    "if debug_mode: check_displacement()"
   ]
  },
  {
   "cell_type": "code",
   "execution_count": 41,
   "metadata": {},
   "outputs": [],
   "source": [
    "neighbor_list = [None] * res_total"
   ]
  },
  {
   "cell_type": "code",
   "execution_count": 42,
   "metadata": {},
   "outputs": [],
   "source": [
    "def check_neighbor(radius):\n",
    "    '''check the number of neighbor of a molecules in a specific radius of the current frame'''\n",
    "\n",
    "    count_neighbor = []\n",
    "\n",
    "    for leaf in range(2):\n",
    "\n",
    "        for i in leaflet[leaf]:\n",
    "            count = 0;\n",
    "\n",
    "            for j in leaflet[leaf]:\n",
    "                if (i != j and real_distance(cen[i], cen[j]) < radius): count += 1\n",
    "\n",
    "            count_neighbor.append(count)\n",
    "\n",
    "    \n",
    "    global fig_num\n",
    "    fig_num += 1\n",
    "    plt.figure(fig_num)\n",
    "        \n",
    "    plt.hist(count_neighbor, bins=np.linspace(0, 10, 21), density=False)\n",
    "    plt.xlabel('Number of neighbor')\n",
    "    plt.ylabel('Probability density (raw count)')\n",
    "    \n",
    "    fig = plt.gcf()\n",
    "    fig.savefig('Number of neighbor of residues at the first frame.jpg')\n",
    "    \n",
    "#     plt.show()"
   ]
  },
  {
   "cell_type": "code",
   "execution_count": 43,
   "metadata": {
    "scrolled": true
   },
   "outputs": [],
   "source": [
    "if debug_mode: check_neighbor(10)"
   ]
  },
  {
   "cell_type": "code",
   "execution_count": 44,
   "metadata": {},
   "outputs": [],
   "source": [
    "def initialize():\n",
    "    '''initialize tilt angle, center, tilt vector, norm of tilt vector of all molecules of the current frame'''\n",
    "    \n",
    "    for leaf in range(2):\n",
    "        \n",
    "        for i in leaflet[leaf]:\n",
    "            \n",
    "            ares = lipsys.select_atoms('resid ' + str(i))\n",
    "            til[i], cen[i], vec[i], nor[i] = TCVN(ares)"
   ]
  },
  {
   "cell_type": "code",
   "execution_count": 45,
   "metadata": {},
   "outputs": [],
   "source": [
    "# update method : Brute-force\n",
    "\n",
    "def brute_update_neighbor():\n",
    "    '''update neighbor list of all molecules of the current frame'''\n",
    "    \n",
    "    print('Brutely updating neighbor list ...')\n",
    "    \n",
    "    for leaf in range(2):\n",
    "    \n",
    "        for i in leaflet[leaf]:\n",
    "            neighbor_list[i] = []\n",
    "\n",
    "            for j in leaflet[leaf]:\n",
    "\n",
    "                if (i != j and real_distance(cen[i], cen[j]) < neighbor_radius):\n",
    "                    neighbor_list[i].append(j)\n",
    "                "
   ]
  },
  {
   "cell_type": "code",
   "execution_count": 46,
   "metadata": {},
   "outputs": [],
   "source": [
    "# update method : List of neighbor list\n",
    "\n",
    "def update_neighbor():\n",
    "    '''update neighbor list of all molecules of the current frame'''\n",
    "    \n",
    "    print('Updating neighbor list ...')\n",
    "    \n",
    "    for leaf in range(2):\n",
    "    \n",
    "        for i in leaflet[leaf]:\n",
    "            neilist = []\n",
    "\n",
    "            for j1 in neighbor_list[i]:\n",
    "                \n",
    "                for j2 in neighbor_list[j1]:\n",
    "\n",
    "                    if (i != j2 and real_distance(cen[i], cen[j2]) < neighbor_radius):\n",
    "                        neilist.append(j2)\n",
    "                        \n",
    "                        \n",
    "            neighbor_list[i] = np.unique(neilist)"
   ]
  },
  {
   "cell_type": "code",
   "execution_count": 47,
   "metadata": {},
   "outputs": [],
   "source": [
    "all_alpha = {}\n",
    "\n",
    "for i in range(N):\n",
    "    \n",
    "    for j in range(N):\n",
    "        all_alpha[resname[i] + resname[j]] = []"
   ]
  },
  {
   "cell_type": "code",
   "execution_count": 48,
   "metadata": {},
   "outputs": [
    {
     "name": "stdout",
     "output_type": "stream",
     "text": [
      "Analyzing frame 0 ...\n",
      "Brutely updating neighbor list ...\n",
      "Updating neighbor list ...\n",
      "  leaflet 0 ...\n",
      "  leaflet 1 ...\n",
      "Analyzing frame 1 ...\n",
      "  leaflet 0 ...\n",
      "  leaflet 1 ...\n",
      "Analyzing frame 2 ...\n",
      "  leaflet 0 ...\n",
      "  leaflet 1 ...\n",
      "Analyzing frame 3 ...\n",
      "  leaflet 0 ...\n",
      "  leaflet 1 ...\n",
      "Analyzing frame 4 ...\n",
      "  leaflet 0 ...\n",
      "  leaflet 1 ...\n",
      "Analyzing frame 5 ...\n",
      "  leaflet 0 ...\n",
      "  leaflet 1 ...\n",
      "Analyzing frame 6 ...\n",
      "  leaflet 0 ...\n",
      "  leaflet 1 ...\n",
      "Analyzing frame 7 ...\n",
      "  leaflet 0 ...\n",
      "  leaflet 1 ...\n",
      "Analyzing frame 8 ...\n",
      "  leaflet 0 ...\n",
      "  leaflet 1 ...\n",
      "Analyzing frame 9 ...\n",
      "  leaflet 0 ...\n",
      "  leaflet 1 ...\n",
      "Complete!\n"
     ]
    }
   ],
   "source": [
    "# https://stackabuse.com/parallel-processing-in-python/\n",
    "\n",
    "for i in range(n_frame):\n",
    "    \n",
    "    lipsys.trajectory[i]\n",
    "\n",
    "    # the main loop for 1 frame!\n",
    "    # method : Neighbor list\n",
    "    \n",
    "    print('Analyzing frame', i, '...')\n",
    "\n",
    "    initialize()\n",
    "    \n",
    "    if (i == 0): brute_update_neighbor() # initialize the very first neighbor list\n",
    "\n",
    "    if (i % update_rate == 0): update_neighbor()\n",
    "    \n",
    "\n",
    "    marked = {}\n",
    "\n",
    "    for leaf in range(2):\n",
    "        print('  leaflet', leaf, '...')\n",
    "\n",
    "        for i in leaflet[leaf]:\n",
    "            name_i = lipsys.residues.resnames[i]\n",
    "\n",
    "            for j in neighbor_list[i]:\n",
    "\n",
    "                if (til[j] >= 10 and til[i] >= 10): continue\n",
    "                if (marked.get(str(i) + ' ' + str(j))): continue\n",
    "                if (real_distance(cen[i], cen[j]) >= 10): continue\n",
    "\n",
    "                # calculate alpha of i j\n",
    "                angle = np.arccos(np.dot(vec[i], vec[j]) / (nor[i] * nor[j])) # in radian\n",
    "                angle = np.rad2deg(angle) # in degree\n",
    "\n",
    "                # save new alpha to array\n",
    "                name_j = lipsys.residues.resnames[j]\n",
    "                all_alpha[name_i + name_j].append(angle)\n",
    "\n",
    "                marked[str(j) + ' ' + str(i)] = 1 # this \"marked\" dictionary is tricky!!!\n",
    "\n",
    "\n",
    "print('Complete!')"
   ]
  },
  {
   "cell_type": "code",
   "execution_count": 50,
   "metadata": {},
   "outputs": [
    {
     "data": {
      "image/png": "[encoded data removed]",
      "text/plain": [
       "<Figure size 900x756 with 2 Axes>"
      ]
     },
     "metadata": {
      "needs_background": "light"
     },
     "output_type": "display_data"
    },
    {
     "name": "stdout",
     "output_type": "stream",
     "text": [
      "Bending modulus of system (in kBT Units) = 37.252870407943135 ± 2.081947231574065\n",
      "Bending modulus of system (in J Units)   = 1.662061285547572e-19 ± 9.288744341736365e-21\n"
     ]
    }
   ],
   "source": [
    "# post-processing\n",
    "\n",
    "gs1 = grs.GridSpec(2, 1)\n",
    "gs1.update(wspace=0.025, hspace=0.025)\n",
    "fig_num += 1\n",
    "\n",
    "sum_splay = 0\n",
    "phi_total = 0\n",
    "sum_splay_sqr = 0\n",
    "\n",
    "all_alpha_merge = {}\n",
    "\n",
    "for i in range(N):\n",
    "    \n",
    "    for j in range(i, N):\n",
    "        \n",
    "        name1 = resname[i] + resname[j]\n",
    "        name2 = resname[j] + resname[i]\n",
    "        \n",
    "        all_alpha_merge[name1] = []\n",
    "        all_alpha_merge[name1].extend(all_alpha[name1])\n",
    "        if (name1 != name2): all_alpha_merge[name1].extend(all_alpha[name2])\n",
    "        \n",
    "        phi_ij = len(all_alpha_merge[name1])\n",
    "        \n",
    "#         print(len(all_alpha[name1]))\n",
    "#         print(len(all_alpha[name2]))\n",
    "#         flog.write(resname[i] + ' ' + resname[j] + ' : ' + str(phi_ij) + ' alpha\\n')\n",
    "        flog.write('%7s %7s : %d alpha\\n' % (resname[i], resname[j], phi_ij))\n",
    "        \n",
    "        plt.figure(fig_num)\n",
    "        \n",
    "        plt.subplot(gs1[0])\n",
    "        P_alpha, bins = np.histogram(all_alpha_merge[name1], bins=np.linspace(0, 90, 91), density=True)\n",
    "        alpha_new = .5 * (bins[1:] + bins[:-1])\n",
    "        plt.plot(alpha_new, P_alpha, label=resname[i] + '/' + resname[j])\n",
    "        \n",
    "        spl = plt.subplot(gs1[1])\n",
    "        spl.set_ylim([-1, 10])\n",
    "        PMF = -1 * np.log(P_alpha / np.sin(np.deg2rad(alpha_new)))\n",
    "        plt.plot(alpha_new, PMF, label=resname[i] + '/' + resname[j])\n",
    "        \n",
    "        plt.tight_layout()\n",
    "        \n",
    "        \n",
    "        if trial_run: continue\n",
    "        \n",
    "        \n",
    "        # extract data from fit range\n",
    "        X_fit = []\n",
    "        Y_fit = []\n",
    "        \n",
    "        for k, alpha in enumerate(alpha_new):\n",
    "            \n",
    "            if (fit_range[0] <= alpha and alpha <= fit_range[1]):\n",
    "                \n",
    "                if (P_alpha[k] == 0): continue\n",
    "                \n",
    "                X_fit.append(np.deg2rad(alpha))\n",
    "                Y_fit.append(PMF[k])\n",
    "                \n",
    "        # quadratic fit alpha to calculate chi_12\n",
    "        # https://docs.scipy.org/doc/scipy/reference/generated/scipy.optimize.curve_fit.html\n",
    "\n",
    "        popt, pcov = curve_fit(fit_func, X_fit, Y_fit)\n",
    "        perr = np.sqrt(np.diag(pcov)) # standard deviation errors\n",
    "        \n",
    "        plt.plot(alpha_new, fit_func(np.deg2rad(alpha_new), *popt), '--')\n",
    "        \n",
    "        # update splay contribution and number of encounter pair\n",
    "        phi_total += phi_ij\n",
    "        chi_12_ij = popt[0]\n",
    "        d_chi_12_ij = perr[0]\n",
    "        \n",
    "        sum_splay += phi_ij / chi_12_ij\n",
    "        sum_splay_sqr += phi_ij / chi_12_ij ** 2 * d_chi_12_ij\n",
    "        \n",
    "        \n",
    "        # write data to file for further postprocessing\n",
    "        # https://docs.python.org/3/library/io.html\n",
    "        prefix = resname[i] + '-' + resname[j]\n",
    "        subfix = '.dat'\n",
    "        # file_raw writes all existing alpha\n",
    "        # file_all writes alpha, P(alpha), PMF(alpha)\n",
    "        file_raw = prefix + '_raw' + subfix\n",
    "#         file_raw = prefix + '_' + str(fit_range[0]) + '-' + str(fit_range[1]) + subfix\n",
    "        file_all = prefix + '_P_and_PMF' + subfix\n",
    "        \n",
    "        with open(file_raw, 'w') as filehandle:\n",
    "            filehandle.write('# all existing alpha of ' + prefix + ' (in units degree)\\n')\n",
    "            filehandle.write('# first line: number of alpha\\n%d\\n' % phi_ij)\n",
    "            \n",
    "            for alpha in all_alpha_merge[name1]:\n",
    "                filehandle.write('%f ' % alpha)\n",
    "        \n",
    "        \n",
    "        with open(file_all, 'w') as filehandle:\n",
    "            filehandle.write('# alpha(in degree) P(alpha)() PMF(alpha)(in kBT)\\n')\n",
    "            \n",
    "            for k, alpha in enumerate(alpha_new):\n",
    "                if (fit_range[0] <= alpha and alpha <= fit_range[1]):\n",
    "                    filehandle.write('%f\\t%f\\t%f\\n' % (alpha, P_alpha[k], PMF[k]))\n",
    "        \n",
    "        \n",
    "plt.subplot(gs1[0])\n",
    "plt.ylabel('P(alpha)')\n",
    "plt.legend(loc='upper right')\n",
    "plt.xlim([0, 90])\n",
    "\n",
    "plt.subplot(gs1[1])\n",
    "plt.ylabel('Potential of Mean force, kBT')\n",
    "plt.xlabel('splay angle, alpha, degree')\n",
    "plt.legend(loc='upper right')\n",
    "plt.xlim([0, 90])\n",
    "\n",
    "fig = plt.gcf()\n",
    "fig.set_size_inches(12.5, 10.5)\n",
    "fig.savefig('P_alpha and PMF of ' + str(n_frame) + ' frames.jpg')\n",
    "\n",
    "plt.show()\n",
    "\n",
    "\n",
    "# calculate bending modulus\n",
    "if not trial_run:\n",
    "    Km = phi_total / sum_splay\n",
    "    Kc = 2 * Km\n",
    "    d_Kc = 2 * phi_total / sum_splay ** 2 * sum_splay_sqr\n",
    "\n",
    "    print('Bending modulus of system (in kBT Units) =', Kc, u\"\\u00B1\", d_Kc)\n",
    "    print('Bending modulus of system (in J Units)   =', Kc * kB * Temp, u\"\\u00B1\", d_Kc * kB * Temp)\n",
    "\n",
    "    flog.write('Bending modulus of system (in kBT Units) = %f \\u00B1 %f\\n' % (Kc, d_Kc))\n",
    "    flog.write('Bending modulus of system (in J Units)   = %e \\u00B1 %e\\n' % (Kc * kB * Temp, d_Kc * kB * Temp))  \n",
    "        \n",
    "        \n",
    "if trial_run:\n",
    "    flog.write('Trial run completed!\\n')\n",
    "\n",
    "flog.write('Finished on %s\\n' %datetime.datetime.now())\n",
    "flog.write('\\n')\n",
    "    \n",
    "if not develop_mode: flog.close()"
   ]
  },
  {
   "cell_type": "code",
   "execution_count": null,
   "metadata": {},
   "outputs": [],
   "source": []
  },
  {
   "cell_type": "code",
   "execution_count": null,
   "metadata": {},
   "outputs": [],
   "source": []
  }
 ],
 "metadata": {
  "kernelspec": {
   "display_name": "Python [conda env:lab] *",
   "language": "python",
   "name": "conda-env-lab-py"
  },
  "language_info": {
   "codemirror_mode": {
    "name": "ipython",
    "version": 3
   },
   "file_extension": ".py",
   "mimetype": "text/x-python",
   "name": "python",
   "nbconvert_exporter": "python",
   "pygments_lexer": "ipython3",
   "version": "3.10.4"
  }
 },
 "nbformat": 4,
 "nbformat_minor": 4
}
